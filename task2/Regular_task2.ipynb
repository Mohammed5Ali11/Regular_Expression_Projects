{
 "cells": [
  {
   "cell_type": "code",
   "execution_count": 1,
   "id": "cac7f17f-2911-4253-8afa-dffc25bc3076",
   "metadata": {},
   "outputs": [],
   "source": [
    "import re \n",
    "with open(\"I:/INSTANT_AI_COURSE/scissions/AI/Session 17/Regular_tasks/Fake_emails.txt\",\"r\") as File:\n",
    "    data = File.read()"
   ]
  },
  {
   "cell_type": "code",
   "execution_count": 2,
   "id": "88c975ec-34c5-41f1-b0b1-7bba7c9bad6a",
   "metadata": {},
   "outputs": [
    {
     "name": "stdout",
     "output_type": "stream",
     "text": [
      "['Ahmed Hafez', 'Ali Osama', 'Mohamed Salah', 'Sara Ibrahim', 'Omar Hassan', 'Mona Ali', 'Hassan Ahmed', 'Nour Samir', 'Laila Karim', 'Youssef Adel', 'Amal Tarek', 'Fadi Rami', 'Farah Mostafa', 'Rami Khaled', 'Nadine Omar', 'Khaled Mahmoud', 'Lama Saeed', 'Tamer Sami', 'Salma Anwar', 'Yara Nabil']\n"
     ]
    }
   ],
   "source": [
    "pattarn = re.compile(r\"[A-Za-z]+ [A-Za-z]+\")\n",
    "matches = pattarn.finditer(data)\n",
    "Names = []\n",
    "for match in matches:\n",
    "    start = match.span()[0]\n",
    "    end = match.span()[1]\n",
    "    Names.append(data[start:end])\n",
    "print(Names)"
   ]
  },
  {
   "cell_type": "code",
   "execution_count": 3,
   "id": "77a2412b-9a35-49c5-8660-f996823682e3",
   "metadata": {},
   "outputs": [
    {
     "name": "stdout",
     "output_type": "stream",
     "text": [
      "['01023456786', '01243423423', '01123456782', '01512345671', '01098765434', '01234567895', '01134567389', '01011112222', '01587654328', '01222223339', '01156789010', '01034567120', '01245672890', '01167890121', '01523456781', '01054323109', '01267890127', '01187654329', '01098765430', '01278901235']\n"
     ]
    }
   ],
   "source": [
    "pattarn = re.compile(r\"(010|011|012|015)\\d{8}\")\n",
    "matches = pattarn.finditer(data)\n",
    "Numbers = []\n",
    "for match in matches:\n",
    "    start = match.span()[0]\n",
    "    end = match.span()[1]\n",
    "    Numbers.append(data[start:end])\n",
    "print(Numbers)"
   ]
  },
  {
   "cell_type": "code",
   "execution_count": 4,
   "id": "cb9f6594-1ed3-4a4e-86a4-9d1e2967e679",
   "metadata": {},
   "outputs": [
    {
     "name": "stdout",
     "output_type": "stream",
     "text": [
      "['ahmed_h123@domain.edu', 'ali.osama45@server.net', 'mohamed$99.salah@webmail.org', 'sara.ibrahim+info@school.edu', 'omar.hassan-89@company.io', 'mona_ali.work@enterprise.tech', 'ed@service.biz', 'nour.samir123@network.co.uk', 'laila.karim22@research.ac', 'y.adel_dev@workspace.info', 'amal.t@online.club', 'fadi_rami007@cloud.xyz', 'stafa@study.edu', 'rami.khaled-web@forum.online', 'nadine.o_456@library.net', 'mud@portal.academy', 'lama.saeed_tech@company.tech', 'tamer.sami98@service.gov', 'salma.a_work@team.club', 'yara.nab_il@lab.org']\n"
     ]
    }
   ],
   "source": [
    "pattarn = re.compile(r\"[A-Za-z0-9-+$._]+@[A-Za-z0-9-]+\\.[A-Za-z0-9-.]{2,}\")\n",
    "matches = pattarn.finditer(data)\n",
    "emails = []\n",
    "for match in matches:\n",
    "    start = match.span()[0]\n",
    "    end = match.span()[1]\n",
    "    emails.append(data[start:end])\n",
    "print(emails)"
   ]
  },
  {
   "cell_type": "code",
   "execution_count": null,
   "id": "a9ca1aff-80bb-4dcb-8469-bfc14f95d5e0",
   "metadata": {},
   "outputs": [],
   "source": []
  }
 ],
 "metadata": {
  "kernelspec": {
   "display_name": "Python 3 (ipykernel)",
   "language": "python",
   "name": "python3"
  },
  "language_info": {
   "codemirror_mode": {
    "name": "ipython",
    "version": 3
   },
   "file_extension": ".py",
   "mimetype": "text/x-python",
   "name": "python",
   "nbconvert_exporter": "python",
   "pygments_lexer": "ipython3",
   "version": "3.12.4"
  }
 },
 "nbformat": 4,
 "nbformat_minor": 5
}
